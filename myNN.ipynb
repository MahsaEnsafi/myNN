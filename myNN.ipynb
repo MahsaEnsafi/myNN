{
 "cells": [
  {
   "cell_type": "code",
   "execution_count": 10,
   "id": "302b46fe-9cac-41c8-802a-7ab9cab81494",
   "metadata": {
    "editable": true,
    "slideshow": {
     "slide_type": ""
    },
    "tags": []
   },
   "outputs": [],
   "source": [
    "import numpy as np\n",
    "import pandas as pd\n",
    "from sklearn.model_selection import train_test_split"
   ]
  },
  {
   "cell_type": "code",
   "execution_count": 3,
   "id": "96df9c7d-6a25-4f6f-a9fb-b69fb45ad2cc",
   "metadata": {},
   "outputs": [],
   "source": [
    "def sigmoid_numpy(x):\n",
    "    return 1/(1+np.exp(-x))\n",
    "\n",
    "def log_loss(y_true,y_predict):\n",
    "    epsilon=1e-15\n",
    "    y_predict_new=[max(i,epsilon) for i in y_predict]\n",
    "    y_predict_new=[min(i,1-epsilon) for i in y_predict]\n",
    "    y_predict_new=np.array(y_predict_new)\n",
    "    return -np.mean(y_true*np.log(y_predict_new)+(1-y_true)*np.log(1-y_predict_new))"
   ]
  },
  {
   "cell_type": "code",
   "execution_count": 108,
   "id": "8baa4599-ecb8-4fb8-b176-821262ba8462",
   "metadata": {},
   "outputs": [],
   "source": [
    "class myNN:\n",
    "    def __init__(self):\n",
    "        self.w1=1\n",
    "        self.w2=1\n",
    "        self.bias=0\n",
    "\n",
    "    def fit(self,X,Y,epochs,loss_threshold):\n",
    "        self.w1,self.w2,self.bias=self.gradient_descend(X['feature1'],X['feature2'],Y,epochs,loss_threshold)\n",
    "\n",
    "    def predict(self,X_test):\n",
    "        weidht_sum=self.w1*X_test['feature1']+self.w2*X_test['feature2']+self.bias\n",
    "        return sigmoid_numpy(weidht_sum)\n",
    "    def gradient_descend(self,feature1,feature2,Y_true,epochs,loss_threshold):\n",
    "        w1=w2=1\n",
    "        bias=0\n",
    "        rate=0.01\n",
    "        n=len(feature1)\n",
    "        for i in range(epochs):\n",
    "            weighted_sum=w1*feature1+w2*feature2+bias\n",
    "            Y_predict=sigmoid_numpy(weighted_sum)\n",
    "            loss=log_loss(Y_true,Y_predict)\n",
    "            w1d=1/n*np.dot(np.transpose(feature1),(Y_predict-Y_true))\n",
    "            w2d=1/n*np.dot(np.transpose(feature2),(Y_predict-Y_true))\n",
    "            bias_d=np.mean(Y_predict-Y_true)\n",
    "            w1=w1-rate*w1d\n",
    "            w2=w2-rate*w2d\n",
    "            bias=bias-rate*bias_d\n",
    "            print(f'Epoch:{i},w1:{w1},w2:{w2},bias:{bias},loss:{loss}')\n",
    "            if(loss<=loss_threshold):\n",
    "                break\n",
    "        return w1,w2,bias\n",
    "\n"
   ]
  },
  {
   "cell_type": "code",
   "execution_count": 90,
   "id": "d8b67b47-2535-406e-bee2-c5e6f34460c2",
   "metadata": {},
   "outputs": [],
   "source": [
    "df=pd.read_csv('path')\n"
   ]
  },
  {
   "cell_type": "code",
   "execution_count": 92,
   "id": "235e6d8a-760e-4b8c-9c72-39222ebcf1b7",
   "metadata": {},
   "outputs": [],
   "source": [
    "X_train,X_test,Y_train,Y_test=train_test_split(df[['feature1','feature2']],df.label,test_size=0.2,random_state=25)"
   ]
  },
  {
   "cell_type": "code",
   "execution_count": 94,
   "id": "f08b38ae-9f25-4e63-b271-577b7bf20c37",
   "metadata": {},
   "outputs": [],
   "source": []
  },
  {
   "cell_type": "code",
   "execution_count": null,
   "id": "dd61370d-1a95-41f6-b367-295cb15d4607",
   "metadata": {},
   "outputs": [],
   "source": [
    "cusmodel=myNN()\n",
    "cusmodel.fit(X_train_scaled,Y_train,epochs=100,loss_threshold=0.4611)"
   ]
  },
  {
   "cell_type": "code",
   "execution_count": null,
   "id": "df7273bb-6f61-43fd-b86a-cd0948b5b68f",
   "metadata": {},
   "outputs": [],
   "source": [
    "print(X_test_scaled)\n",
    "cusmodel.predict(X_test_scaled)"
   ]
  },
  {
   "cell_type": "code",
   "execution_count": null,
   "id": "91125b63-8190-4651-8972-20d04e3d220e",
   "metadata": {},
   "outputs": [],
   "source": []
  }
 ],
 "metadata": {
  "kernelspec": {
   "display_name": "Python [conda env:base] *",
   "language": "python",
   "name": "conda-base-py"
  },
  "language_info": {
   "codemirror_mode": {
    "name": "ipython",
    "version": 3
   },
   "file_extension": ".py",
   "mimetype": "text/x-python",
   "name": "python",
   "nbconvert_exporter": "python",
   "pygments_lexer": "ipython3",
   "version": "3.12.7"
  }
 },
 "nbformat": 4,
 "nbformat_minor": 5
}
